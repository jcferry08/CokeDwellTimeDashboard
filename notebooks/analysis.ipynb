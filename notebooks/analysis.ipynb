{
 "cells": [
  {
   "cell_type": "markdown",
   "metadata": {},
   "source": [
    "# Initial Coke Data Analysis and Cleaning"
   ]
  },
  {
   "cell_type": "code",
   "execution_count": 437,
   "metadata": {},
   "outputs": [],
   "source": [
    "import pandas as pd\n",
    "import os\n",
    "import duckdb"
   ]
  },
  {
   "cell_type": "code",
   "execution_count": 438,
   "metadata": {},
   "outputs": [],
   "source": [
    "pd.set_option('display.max_columns', None)"
   ]
  },
  {
   "cell_type": "code",
   "execution_count": 439,
   "metadata": {},
   "outputs": [],
   "source": [
    "activity_report = pd.read_csv('/Users/jamesferry/Documents/GitHub/CokeDwellTimeDashboard/data/raw/CokeActivityTracking.csv', encoding='ISO-8859-1', dtype={'Order #': str})\n",
    "order_report = pd.read_csv('/Users/jamesferry/Documents/GitHub/CokeDwellTimeDashboard/data/raw/CokeOrderView.csv', encoding='ISO-8859-1', dtype={'Shipment #': str, 'SAP Delivery # (Order#)': str})\n",
    "trailer_report = pd.read_csv('/Users/jamesferry/Documents/GitHub/CokeDwellTimeDashboard/data/raw/CokeTrailerActivity.csv', encoding='ISO-8859-1', dtype={'SHIPMENT_ID': str})"
   ]
  },
  {
   "cell_type": "markdown",
   "metadata": {},
   "source": [
    "## Activity Tracking Report"
   ]
  },
  {
   "cell_type": "code",
   "execution_count": 440,
   "metadata": {},
   "outputs": [
    {
     "data": {
      "text/html": [
       "<div>\n",
       "<style scoped>\n",
       "    .dataframe tbody tr th:only-of-type {\n",
       "        vertical-align: middle;\n",
       "    }\n",
       "\n",
       "    .dataframe tbody tr th {\n",
       "        vertical-align: top;\n",
       "    }\n",
       "\n",
       "    .dataframe thead th {\n",
       "        text-align: right;\n",
       "    }\n",
       "</style>\n",
       "<table border=\"1\" class=\"dataframe\">\n",
       "  <thead>\n",
       "    <tr style=\"text-align: right;\">\n",
       "      <th></th>\n",
       "      <th>ï»¿Create DateTime</th>\n",
       "      <th>User Id</th>\n",
       "      <th>Transaction Type</th>\n",
       "      <th>Transaction Code</th>\n",
       "      <th>Transaction Description</th>\n",
       "      <th>LPN</th>\n",
       "      <th>Item Name</th>\n",
       "      <th>From Location</th>\n",
       "      <th>To Location</th>\n",
       "      <th>Task Id</th>\n",
       "      <th>Pallet Id</th>\n",
       "      <th>From LPN</th>\n",
       "      <th>NBR_UNITS (CS)</th>\n",
       "      <th>Order/ASN</th>\n",
       "      <th>Order #</th>\n",
       "      <th>Lot Code</th>\n",
       "    </tr>\n",
       "  </thead>\n",
       "  <tbody>\n",
       "    <tr>\n",
       "      <th>0</th>\n",
       "      <td>Oct 31, 2024 7:22:57 AM</td>\n",
       "      <td>179710</td>\n",
       "      <td>800</td>\n",
       "      <td>2</td>\n",
       "      <td>Load trailer/ oLPN</td>\n",
       "      <td>100250003447451046</td>\n",
       "      <td>281582.0</td>\n",
       "      <td>NaN</td>\n",
       "      <td>NaN</td>\n",
       "      <td>NaN</td>\n",
       "      <td>NaN</td>\n",
       "      <td>NaN</td>\n",
       "      <td>112</td>\n",
       "      <td>405883529.0</td>\n",
       "      <td>0405883529</td>\n",
       "      <td>0013268156</td>\n",
       "    </tr>\n",
       "    <tr>\n",
       "      <th>1</th>\n",
       "      <td>Oct 31, 2024 7:22:57 AM</td>\n",
       "      <td>179710</td>\n",
       "      <td>800</td>\n",
       "      <td>2</td>\n",
       "      <td>Load trailer/ oLPN</td>\n",
       "      <td>100250003447896717</td>\n",
       "      <td>281587.0</td>\n",
       "      <td>NaN</td>\n",
       "      <td>NaN</td>\n",
       "      <td>NaN</td>\n",
       "      <td>NaN</td>\n",
       "      <td>NaN</td>\n",
       "      <td>112</td>\n",
       "      <td>405883529.0</td>\n",
       "      <td>0405883529</td>\n",
       "      <td>0013268154</td>\n",
       "    </tr>\n",
       "    <tr>\n",
       "      <th>2</th>\n",
       "      <td>Oct 31, 2024 7:27:14 AM</td>\n",
       "      <td>167827</td>\n",
       "      <td>800</td>\n",
       "      <td>2</td>\n",
       "      <td>Load trailer/ oLPN</td>\n",
       "      <td>100250010000728811</td>\n",
       "      <td>289482.0</td>\n",
       "      <td>NaN</td>\n",
       "      <td>NaN</td>\n",
       "      <td>NaN</td>\n",
       "      <td>NaN</td>\n",
       "      <td>NaN</td>\n",
       "      <td>100</td>\n",
       "      <td>405877816.0</td>\n",
       "      <td>0405877816</td>\n",
       "      <td>FA24235-2</td>\n",
       "    </tr>\n",
       "    <tr>\n",
       "      <th>3</th>\n",
       "      <td>Oct 31, 2024 7:27:14 AM</td>\n",
       "      <td>167827</td>\n",
       "      <td>800</td>\n",
       "      <td>2</td>\n",
       "      <td>Load trailer/ oLPN</td>\n",
       "      <td>100250010000867954</td>\n",
       "      <td>289483.0</td>\n",
       "      <td>NaN</td>\n",
       "      <td>NaN</td>\n",
       "      <td>NaN</td>\n",
       "      <td>NaN</td>\n",
       "      <td>NaN</td>\n",
       "      <td>100</td>\n",
       "      <td>405877816.0</td>\n",
       "      <td>0405877816</td>\n",
       "      <td>FA24275-2</td>\n",
       "    </tr>\n",
       "    <tr>\n",
       "      <th>4</th>\n",
       "      <td>Oct 31, 2024 7:27:18 AM</td>\n",
       "      <td>173014</td>\n",
       "      <td>800</td>\n",
       "      <td>2</td>\n",
       "      <td>Load trailer/ oLPN</td>\n",
       "      <td>100250003449818076</td>\n",
       "      <td>370685.0</td>\n",
       "      <td>NaN</td>\n",
       "      <td>NaN</td>\n",
       "      <td>NaN</td>\n",
       "      <td>NaN</td>\n",
       "      <td>NaN</td>\n",
       "      <td>90</td>\n",
       "      <td>405869713.0</td>\n",
       "      <td>0405869713</td>\n",
       "      <td>0013264168</td>\n",
       "    </tr>\n",
       "  </tbody>\n",
       "</table>\n",
       "</div>"
      ],
      "text/plain": [
       "        ï»¿Create DateTime User Id  Transaction Type  Transaction Code  \\\n",
       "0  Oct 31, 2024 7:22:57 AM  179710               800                 2   \n",
       "1  Oct 31, 2024 7:22:57 AM  179710               800                 2   \n",
       "2  Oct 31, 2024 7:27:14 AM  167827               800                 2   \n",
       "3  Oct 31, 2024 7:27:14 AM  167827               800                 2   \n",
       "4  Oct 31, 2024 7:27:18 AM  173014               800                 2   \n",
       "\n",
       "  Transaction Description                 LPN  Item Name From Location  \\\n",
       "0      Load trailer/ oLPN  100250003447451046   281582.0           NaN   \n",
       "1      Load trailer/ oLPN  100250003447896717   281587.0           NaN   \n",
       "2      Load trailer/ oLPN  100250010000728811   289482.0           NaN   \n",
       "3      Load trailer/ oLPN  100250010000867954   289483.0           NaN   \n",
       "4      Load trailer/ oLPN  100250003449818076   370685.0           NaN   \n",
       "\n",
       "  To Location Task Id Pallet Id  From LPN  NBR_UNITS (CS)    Order/ASN  \\\n",
       "0         NaN     NaN       NaN       NaN             112  405883529.0   \n",
       "1         NaN     NaN       NaN       NaN             112  405883529.0   \n",
       "2         NaN     NaN       NaN       NaN             100  405877816.0   \n",
       "3         NaN     NaN       NaN       NaN             100  405877816.0   \n",
       "4         NaN     NaN       NaN       NaN              90  405869713.0   \n",
       "\n",
       "      Order #    Lot Code  \n",
       "0  0405883529  0013268156  \n",
       "1  0405883529  0013268154  \n",
       "2  0405877816   FA24235-2  \n",
       "3  0405877816   FA24275-2  \n",
       "4  0405869713  0013264168  "
      ]
     },
     "execution_count": 440,
     "metadata": {},
     "output_type": "execute_result"
    }
   ],
   "source": [
    "activity_report.head()"
   ]
  },
  {
   "cell_type": "code",
   "execution_count": 441,
   "metadata": {},
   "outputs": [
    {
     "name": "stdout",
     "output_type": "stream",
     "text": [
      "<class 'pandas.core.frame.DataFrame'>\n",
      "RangeIndex: 2900 entries, 0 to 2899\n",
      "Data columns (total 16 columns):\n",
      " #   Column                   Non-Null Count  Dtype  \n",
      "---  ------                   --------------  -----  \n",
      " 0   ï»¿Create DateTime       2900 non-null   object \n",
      " 1   User Id                  2900 non-null   object \n",
      " 2   Transaction Type         2900 non-null   int64  \n",
      " 3   Transaction Code         2900 non-null   int64  \n",
      " 4   Transaction Description  2900 non-null   object \n",
      " 5   LPN                      2900 non-null   int64  \n",
      " 6   Item Name                2839 non-null   float64\n",
      " 7   From Location            500 non-null    object \n",
      " 8   To Location              1319 non-null   object \n",
      " 9   Task Id                  39 non-null     object \n",
      " 10  Pallet Id                113 non-null    object \n",
      " 11  From LPN                 0 non-null      float64\n",
      " 12  NBR_UNITS (CS)           2900 non-null   int64  \n",
      " 13  Order/ASN                2867 non-null   float64\n",
      " 14  Order #                  2900 non-null   object \n",
      " 15  Lot Code                 2867 non-null   object \n",
      "dtypes: float64(3), int64(4), object(9)\n",
      "memory usage: 362.6+ KB\n"
     ]
    }
   ],
   "source": [
    "activity_report.info()"
   ]
  },
  {
   "cell_type": "code",
   "execution_count": 442,
   "metadata": {},
   "outputs": [
    {
     "data": {
      "text/plain": [
       "ï»¿Create DateTime            0\n",
       "User Id                       0\n",
       "Transaction Type              0\n",
       "Transaction Code              0\n",
       "Transaction Description       0\n",
       "LPN                           0\n",
       "Item Name                    61\n",
       "From Location              2400\n",
       "To Location                1581\n",
       "Task Id                    2861\n",
       "Pallet Id                  2787\n",
       "From LPN                   2900\n",
       "NBR_UNITS (CS)                0\n",
       "Order/ASN                    33\n",
       "Order #                       0\n",
       "Lot Code                     33\n",
       "dtype: int64"
      ]
     },
     "execution_count": 442,
     "metadata": {},
     "output_type": "execute_result"
    }
   ],
   "source": [
    "activity_report.isnull().sum()"
   ]
  },
  {
   "cell_type": "code",
   "execution_count": 443,
   "metadata": {},
   "outputs": [
    {
     "data": {
      "text/html": [
       "<div>\n",
       "<style scoped>\n",
       "    .dataframe tbody tr th:only-of-type {\n",
       "        vertical-align: middle;\n",
       "    }\n",
       "\n",
       "    .dataframe tbody tr th {\n",
       "        vertical-align: top;\n",
       "    }\n",
       "\n",
       "    .dataframe thead th {\n",
       "        text-align: right;\n",
       "    }\n",
       "</style>\n",
       "<table border=\"1\" class=\"dataframe\">\n",
       "  <thead>\n",
       "    <tr style=\"text-align: right;\">\n",
       "      <th></th>\n",
       "      <th>Transaction Type</th>\n",
       "      <th>Transaction Code</th>\n",
       "      <th>LPN</th>\n",
       "      <th>Item Name</th>\n",
       "      <th>From LPN</th>\n",
       "      <th>NBR_UNITS (CS)</th>\n",
       "      <th>Order/ASN</th>\n",
       "    </tr>\n",
       "  </thead>\n",
       "  <tbody>\n",
       "    <tr>\n",
       "      <th>count</th>\n",
       "      <td>2900.0</td>\n",
       "      <td>2900.0</td>\n",
       "      <td>2.900000e+03</td>\n",
       "      <td>2839.000000</td>\n",
       "      <td>0.0</td>\n",
       "      <td>2900.000000</td>\n",
       "      <td>2.867000e+03</td>\n",
       "    </tr>\n",
       "    <tr>\n",
       "      <th>mean</th>\n",
       "      <td>800.0</td>\n",
       "      <td>2.0</td>\n",
       "      <td>9.611207e+16</td>\n",
       "      <td>363908.304333</td>\n",
       "      <td>NaN</td>\n",
       "      <td>87.158966</td>\n",
       "      <td>3.830630e+08</td>\n",
       "    </tr>\n",
       "    <tr>\n",
       "      <th>std</th>\n",
       "      <td>0.0</td>\n",
       "      <td>0.0</td>\n",
       "      <td>1.992002e+16</td>\n",
       "      <td>72136.860861</td>\n",
       "      <td>NaN</td>\n",
       "      <td>17.141335</td>\n",
       "      <td>6.439205e+07</td>\n",
       "    </tr>\n",
       "    <tr>\n",
       "      <th>min</th>\n",
       "      <td>800.0</td>\n",
       "      <td>2.0</td>\n",
       "      <td>2.500190e+14</td>\n",
       "      <td>243782.000000</td>\n",
       "      <td>NaN</td>\n",
       "      <td>11.000000</td>\n",
       "      <td>2.014284e+08</td>\n",
       "    </tr>\n",
       "    <tr>\n",
       "      <th>25%</th>\n",
       "      <td>800.0</td>\n",
       "      <td>2.0</td>\n",
       "      <td>1.002500e+17</td>\n",
       "      <td>369578.000000</td>\n",
       "      <td>NaN</td>\n",
       "      <td>90.000000</td>\n",
       "      <td>4.058814e+08</td>\n",
       "    </tr>\n",
       "    <tr>\n",
       "      <th>50%</th>\n",
       "      <td>800.0</td>\n",
       "      <td>2.0</td>\n",
       "      <td>1.002500e+17</td>\n",
       "      <td>369593.000000</td>\n",
       "      <td>NaN</td>\n",
       "      <td>90.000000</td>\n",
       "      <td>4.058835e+08</td>\n",
       "    </tr>\n",
       "    <tr>\n",
       "      <th>75%</th>\n",
       "      <td>800.0</td>\n",
       "      <td>2.0</td>\n",
       "      <td>1.002500e+17</td>\n",
       "      <td>370693.000000</td>\n",
       "      <td>NaN</td>\n",
       "      <td>90.000000</td>\n",
       "      <td>4.058843e+08</td>\n",
       "    </tr>\n",
       "    <tr>\n",
       "      <th>max</th>\n",
       "      <td>800.0</td>\n",
       "      <td>2.0</td>\n",
       "      <td>1.002500e+17</td>\n",
       "      <td>702301.000000</td>\n",
       "      <td>NaN</td>\n",
       "      <td>180.000000</td>\n",
       "      <td>4.058880e+08</td>\n",
       "    </tr>\n",
       "  </tbody>\n",
       "</table>\n",
       "</div>"
      ],
      "text/plain": [
       "       Transaction Type  Transaction Code           LPN      Item Name  \\\n",
       "count            2900.0            2900.0  2.900000e+03    2839.000000   \n",
       "mean              800.0               2.0  9.611207e+16  363908.304333   \n",
       "std                 0.0               0.0  1.992002e+16   72136.860861   \n",
       "min               800.0               2.0  2.500190e+14  243782.000000   \n",
       "25%               800.0               2.0  1.002500e+17  369578.000000   \n",
       "50%               800.0               2.0  1.002500e+17  369593.000000   \n",
       "75%               800.0               2.0  1.002500e+17  370693.000000   \n",
       "max               800.0               2.0  1.002500e+17  702301.000000   \n",
       "\n",
       "       From LPN  NBR_UNITS (CS)     Order/ASN  \n",
       "count       0.0     2900.000000  2.867000e+03  \n",
       "mean        NaN       87.158966  3.830630e+08  \n",
       "std         NaN       17.141335  6.439205e+07  \n",
       "min         NaN       11.000000  2.014284e+08  \n",
       "25%         NaN       90.000000  4.058814e+08  \n",
       "50%         NaN       90.000000  4.058835e+08  \n",
       "75%         NaN       90.000000  4.058843e+08  \n",
       "max         NaN      180.000000  4.058880e+08  "
      ]
     },
     "execution_count": 443,
     "metadata": {},
     "output_type": "execute_result"
    }
   ],
   "source": [
    "activity_report.describe()"
   ]
  },
  {
   "cell_type": "code",
   "execution_count": 444,
   "metadata": {},
   "outputs": [
    {
     "name": "stdout",
     "output_type": "stream",
     "text": [
      "Index(['ï»¿Create DateTime', 'User Id', 'Transaction Type', 'Transaction Code',\n",
      "       'Transaction Description', 'LPN', 'Item Name', 'From Location',\n",
      "       'To Location', 'Task Id', 'Pallet Id', 'From LPN', 'NBR_UNITS (CS)',\n",
      "       'Order/ASN', 'Order #', 'Lot Code'],\n",
      "      dtype='object')\n"
     ]
    }
   ],
   "source": [
    "print(activity_report.columns)"
   ]
  },
  {
   "cell_type": "code",
   "execution_count": 445,
   "metadata": {},
   "outputs": [],
   "source": [
    "activity_report.rename(columns={'ï»¿Create DateTime': 'Create DateTime', 'Order #': 'Order Num'}, inplace=True)"
   ]
  },
  {
   "cell_type": "code",
   "execution_count": 446,
   "metadata": {},
   "outputs": [
    {
     "data": {
      "text/html": [
       "<div>\n",
       "<style scoped>\n",
       "    .dataframe tbody tr th:only-of-type {\n",
       "        vertical-align: middle;\n",
       "    }\n",
       "\n",
       "    .dataframe tbody tr th {\n",
       "        vertical-align: top;\n",
       "    }\n",
       "\n",
       "    .dataframe thead th {\n",
       "        text-align: right;\n",
       "    }\n",
       "</style>\n",
       "<table border=\"1\" class=\"dataframe\">\n",
       "  <thead>\n",
       "    <tr style=\"text-align: right;\">\n",
       "      <th></th>\n",
       "      <th>Create DateTime</th>\n",
       "      <th>Order Num</th>\n",
       "    </tr>\n",
       "  </thead>\n",
       "  <tbody>\n",
       "    <tr>\n",
       "      <th>0</th>\n",
       "      <td>Oct 31, 2024 7:22:57 AM</td>\n",
       "      <td>0405883529</td>\n",
       "    </tr>\n",
       "    <tr>\n",
       "      <th>1</th>\n",
       "      <td>Oct 31, 2024 7:22:57 AM</td>\n",
       "      <td>0405883529</td>\n",
       "    </tr>\n",
       "    <tr>\n",
       "      <th>2</th>\n",
       "      <td>Oct 31, 2024 7:27:14 AM</td>\n",
       "      <td>0405877816</td>\n",
       "    </tr>\n",
       "    <tr>\n",
       "      <th>3</th>\n",
       "      <td>Oct 31, 2024 7:27:14 AM</td>\n",
       "      <td>0405877816</td>\n",
       "    </tr>\n",
       "    <tr>\n",
       "      <th>4</th>\n",
       "      <td>Oct 31, 2024 7:27:18 AM</td>\n",
       "      <td>0405869713</td>\n",
       "    </tr>\n",
       "  </tbody>\n",
       "</table>\n",
       "</div>"
      ],
      "text/plain": [
       "           Create DateTime   Order Num\n",
       "0  Oct 31, 2024 7:22:57 AM  0405883529\n",
       "1  Oct 31, 2024 7:22:57 AM  0405883529\n",
       "2  Oct 31, 2024 7:27:14 AM  0405877816\n",
       "3  Oct 31, 2024 7:27:14 AM  0405877816\n",
       "4  Oct 31, 2024 7:27:18 AM  0405869713"
      ]
     },
     "execution_count": 446,
     "metadata": {},
     "output_type": "execute_result"
    }
   ],
   "source": [
    "columns_to_keep = ['Create DateTime', 'Order Num']\n",
    "activity_report = activity_report.drop(columns=activity_report.columns.difference(columns_to_keep))\n",
    "\n",
    "activity_report.head()"
   ]
  },
  {
   "cell_type": "code",
   "execution_count": 447,
   "metadata": {},
   "outputs": [],
   "source": [
    "activity_report['Create DateTime'] = pd.to_datetime(activity_report['Create DateTime'])"
   ]
  },
  {
   "cell_type": "code",
   "execution_count": 448,
   "metadata": {},
   "outputs": [],
   "source": [
    "order_groups = activity_report.groupby('Order Num')['Create DateTime']"
   ]
  },
  {
   "cell_type": "code",
   "execution_count": 449,
   "metadata": {},
   "outputs": [],
   "source": [
    "load_times = order_groups.agg(lambda x: round((x.max() - x.min()).total_seconds() / 60, 2)).reset_index()\n",
    "load_times.columns = ['Order Num', 'Load Time (minutes)']"
   ]
  },
  {
   "cell_type": "code",
   "execution_count": 450,
   "metadata": {},
   "outputs": [],
   "source": [
    "activity_report['Shift'] = activity_report['Create DateTime'].apply(lambda x: '1' if 7<=x.hour < 19 else '2')"
   ]
  },
  {
   "cell_type": "code",
   "execution_count": 451,
   "metadata": {},
   "outputs": [
    {
     "data": {
      "text/html": [
       "<div>\n",
       "<style scoped>\n",
       "    .dataframe tbody tr th:only-of-type {\n",
       "        vertical-align: middle;\n",
       "    }\n",
       "\n",
       "    .dataframe tbody tr th {\n",
       "        vertical-align: top;\n",
       "    }\n",
       "\n",
       "    .dataframe thead th {\n",
       "        text-align: right;\n",
       "    }\n",
       "</style>\n",
       "<table border=\"1\" class=\"dataframe\">\n",
       "  <thead>\n",
       "    <tr style=\"text-align: right;\">\n",
       "      <th></th>\n",
       "      <th>Create DateTime</th>\n",
       "      <th>Order Num</th>\n",
       "      <th>Shift</th>\n",
       "    </tr>\n",
       "  </thead>\n",
       "  <tbody>\n",
       "    <tr>\n",
       "      <th>0</th>\n",
       "      <td>2024-10-31 07:22:57</td>\n",
       "      <td>0405883529</td>\n",
       "      <td>1</td>\n",
       "    </tr>\n",
       "    <tr>\n",
       "      <th>1</th>\n",
       "      <td>2024-10-31 07:22:57</td>\n",
       "      <td>0405883529</td>\n",
       "      <td>1</td>\n",
       "    </tr>\n",
       "    <tr>\n",
       "      <th>2</th>\n",
       "      <td>2024-10-31 07:27:14</td>\n",
       "      <td>0405877816</td>\n",
       "      <td>1</td>\n",
       "    </tr>\n",
       "    <tr>\n",
       "      <th>3</th>\n",
       "      <td>2024-10-31 07:27:14</td>\n",
       "      <td>0405877816</td>\n",
       "      <td>1</td>\n",
       "    </tr>\n",
       "    <tr>\n",
       "      <th>4</th>\n",
       "      <td>2024-10-31 07:27:18</td>\n",
       "      <td>0405869713</td>\n",
       "      <td>1</td>\n",
       "    </tr>\n",
       "  </tbody>\n",
       "</table>\n",
       "</div>"
      ],
      "text/plain": [
       "      Create DateTime   Order Num Shift\n",
       "0 2024-10-31 07:22:57  0405883529     1\n",
       "1 2024-10-31 07:22:57  0405883529     1\n",
       "2 2024-10-31 07:27:14  0405877816     1\n",
       "3 2024-10-31 07:27:14  0405877816     1\n",
       "4 2024-10-31 07:27:18  0405869713     1"
      ]
     },
     "execution_count": 451,
     "metadata": {},
     "output_type": "execute_result"
    }
   ],
   "source": [
    "activity_report.head()"
   ]
  },
  {
   "cell_type": "code",
   "execution_count": 452,
   "metadata": {},
   "outputs": [],
   "source": [
    "activity_report['Order Type'] = activity_report['Order Num'].apply(lambda x: 'Shuttle' if x.startswith('02') else ('Customer Load' if x.startswith('04') else 'Unknown'))"
   ]
  },
  {
   "cell_type": "code",
   "execution_count": 453,
   "metadata": {},
   "outputs": [],
   "source": [
    "additional_info = activity_report.groupby('Order Num').agg({'Shift': 'first', 'Order Type': 'first'}).reset_index()\n",
    "load_times = load_times.merge(additional_info, on='Order Num', how='left')"
   ]
  },
  {
   "cell_type": "code",
   "execution_count": 454,
   "metadata": {},
   "outputs": [],
   "source": [
    "con = duckdb.connect()"
   ]
  },
  {
   "cell_type": "code",
   "execution_count": 455,
   "metadata": {},
   "outputs": [
    {
     "data": {
      "text/plain": [
       "<duckdb.duckdb.DuckDBPyConnection at 0x11636ed70>"
      ]
     },
     "execution_count": 455,
     "metadata": {},
     "output_type": "execute_result"
    }
   ],
   "source": [
    "con.register('load_times_df', load_times)\n",
    "con.execute('CREATE TABLE load_times AS SELECT * FROM load_times_df')"
   ]
  },
  {
   "cell_type": "code",
   "execution_count": 456,
   "metadata": {},
   "outputs": [
    {
     "name": "stdout",
     "output_type": "stream",
     "text": [
      "      Order Num  Load Time (minutes) Shift     Order Type\n",
      "0    0201428121                29.03     1        Shuttle\n",
      "1    0201428407               151.58     2        Shuttle\n",
      "2    0201428681                79.28     2        Shuttle\n",
      "3    0201428695                96.98     2        Shuttle\n",
      "4    0201428910                90.30     1        Shuttle\n",
      "..          ...                  ...   ...            ...\n",
      "208  0405885725               103.35     1  Customer Load\n",
      "209  0405886093               178.62     1  Customer Load\n",
      "210  0405886147               115.12     1  Customer Load\n",
      "211  0405886256               201.12     2  Customer Load\n",
      "212  0405888024               125.25     2  Customer Load\n",
      "\n",
      "[213 rows x 4 columns]\n"
     ]
    }
   ],
   "source": [
    "print(load_times)"
   ]
  },
  {
   "cell_type": "markdown",
   "metadata": {},
   "source": [
    "## Order View Report"
   ]
  },
  {
   "cell_type": "code",
   "execution_count": 457,
   "metadata": {},
   "outputs": [
    {
     "data": {
      "text/html": [
       "<div>\n",
       "<style scoped>\n",
       "    .dataframe tbody tr th:only-of-type {\n",
       "        vertical-align: middle;\n",
       "    }\n",
       "\n",
       "    .dataframe tbody tr th {\n",
       "        vertical-align: top;\n",
       "    }\n",
       "\n",
       "    .dataframe thead th {\n",
       "        text-align: right;\n",
       "    }\n",
       "</style>\n",
       "<table border=\"1\" class=\"dataframe\">\n",
       "  <thead>\n",
       "    <tr style=\"text-align: right;\">\n",
       "      <th></th>\n",
       "      <th>Ref Shipment Nbr</th>\n",
       "      <th>Shipment #</th>\n",
       "      <th>SAP Delivery # (Order#)</th>\n",
       "      <th>PO #</th>\n",
       "      <th>Order Status</th>\n",
       "      <th>Order Type</th>\n",
       "      <th>Carrier</th>\n",
       "      <th>Ship To</th>\n",
       "      <th>Order Pick Up Date</th>\n",
       "      <th>Appointment</th>\n",
       "      <th>Appointment Date</th>\n",
       "      <th>Check In DateTime</th>\n",
       "      <th>Appointment Type</th>\n",
       "      <th>Trailer</th>\n",
       "      <th>LOAD_OF_THE_DAY</th>\n",
       "      <th>POOL_SEQ#</th>\n",
       "      <th>Trailer Location</th>\n",
       "      <th>Trailer Status</th>\n",
       "      <th>Appointment Notes</th>\n",
       "      <th>Wave #</th>\n",
       "    </tr>\n",
       "  </thead>\n",
       "  <tbody>\n",
       "    <tr>\n",
       "      <th>0</th>\n",
       "      <td>309186851.0</td>\n",
       "      <td>9010143845</td>\n",
       "      <td>0405510588</td>\n",
       "      <td>817183</td>\n",
       "      <td>Shipped</td>\n",
       "      <td>Customer Orders</td>\n",
       "      <td>CPU</td>\n",
       "      <td>GIANT OF MARYLAND</td>\n",
       "      <td>Jan 29, 2024 12:00:00 AM</td>\n",
       "      <td>4219595.0</td>\n",
       "      <td>Jan 29, 2024 10:00:00 AM</td>\n",
       "      <td>01/29/24 11:11</td>\n",
       "      <td>LIVE</td>\n",
       "      <td>10</td>\n",
       "      <td>NaN</td>\n",
       "      <td>1</td>\n",
       "      <td>NaN</td>\n",
       "      <td>NaN</td>\n",
       "      <td>Trinity Logistics</td>\n",
       "      <td>2.021124e+11</td>\n",
       "    </tr>\n",
       "    <tr>\n",
       "      <th>1</th>\n",
       "      <td>309187241.0</td>\n",
       "      <td>9010143874</td>\n",
       "      <td>0405510801</td>\n",
       "      <td>0284-2025320-3895</td>\n",
       "      <td>Shipped</td>\n",
       "      <td>Customer Orders</td>\n",
       "      <td>HEYL</td>\n",
       "      <td>TARGET FDC 3895</td>\n",
       "      <td>Jan 29, 2024 12:00:00 AM</td>\n",
       "      <td>4219650.0</td>\n",
       "      <td>Jan 29, 2024 11:00:00 AM</td>\n",
       "      <td>01/29/24 08:47</td>\n",
       "      <td>DROP</td>\n",
       "      <td>2203</td>\n",
       "      <td>NaN</td>\n",
       "      <td>1</td>\n",
       "      <td>NaN</td>\n",
       "      <td>NaN</td>\n",
       "      <td>NaN</td>\n",
       "      <td>2.021124e+11</td>\n",
       "    </tr>\n",
       "    <tr>\n",
       "      <th>2</th>\n",
       "      <td>309187222.0</td>\n",
       "      <td>9010143871</td>\n",
       "      <td>0405510802</td>\n",
       "      <td>0284-3960824-3895</td>\n",
       "      <td>Shipped</td>\n",
       "      <td>Customer Orders</td>\n",
       "      <td>HEYL</td>\n",
       "      <td>TARGET FDC 3895</td>\n",
       "      <td>Jan 29, 2024 12:00:00 AM</td>\n",
       "      <td>4219652.0</td>\n",
       "      <td>Jan 29, 2024 11:00:00 AM</td>\n",
       "      <td>01/26/24 22:06</td>\n",
       "      <td>DROP</td>\n",
       "      <td>22072</td>\n",
       "      <td>NaN</td>\n",
       "      <td>1</td>\n",
       "      <td>NaN</td>\n",
       "      <td>NaN</td>\n",
       "      <td>NaN</td>\n",
       "      <td>2.021124e+11</td>\n",
       "    </tr>\n",
       "    <tr>\n",
       "      <th>3</th>\n",
       "      <td>309187196.0</td>\n",
       "      <td>9010143870</td>\n",
       "      <td>0405510804</td>\n",
       "      <td>0284-2156124-3895</td>\n",
       "      <td>Shipped</td>\n",
       "      <td>Customer Orders</td>\n",
       "      <td>HEYL</td>\n",
       "      <td>TARGET FDC 3895</td>\n",
       "      <td>Jan 29, 2024 12:00:00 AM</td>\n",
       "      <td>4219656.0</td>\n",
       "      <td>Jan 29, 2024 11:00:00 AM</td>\n",
       "      <td>01/27/24 03:52</td>\n",
       "      <td>DROP</td>\n",
       "      <td>18050</td>\n",
       "      <td>NaN</td>\n",
       "      <td>1</td>\n",
       "      <td>NaN</td>\n",
       "      <td>NaN</td>\n",
       "      <td>NaN</td>\n",
       "      <td>2.021124e+11</td>\n",
       "    </tr>\n",
       "    <tr>\n",
       "      <th>4</th>\n",
       "      <td>309187223.0</td>\n",
       "      <td>9010143869</td>\n",
       "      <td>0405510806</td>\n",
       "      <td>0284-9664329-3895</td>\n",
       "      <td>Shipped</td>\n",
       "      <td>Customer Orders</td>\n",
       "      <td>HEYL</td>\n",
       "      <td>TARGET FDC 3895</td>\n",
       "      <td>Jan 29, 2024 12:00:00 AM</td>\n",
       "      <td>4219658.0</td>\n",
       "      <td>Jan 29, 2024 11:00:00 AM</td>\n",
       "      <td>01/26/24 21:54</td>\n",
       "      <td>DROP</td>\n",
       "      <td>24146</td>\n",
       "      <td>NaN</td>\n",
       "      <td>1</td>\n",
       "      <td>NaN</td>\n",
       "      <td>NaN</td>\n",
       "      <td>NaN</td>\n",
       "      <td>2.021124e+11</td>\n",
       "    </tr>\n",
       "  </tbody>\n",
       "</table>\n",
       "</div>"
      ],
      "text/plain": [
       "   Ref Shipment Nbr  Shipment # SAP Delivery # (Order#)               PO #  \\\n",
       "0       309186851.0  9010143845              0405510588             817183   \n",
       "1       309187241.0  9010143874              0405510801  0284-2025320-3895   \n",
       "2       309187222.0  9010143871              0405510802  0284-3960824-3895   \n",
       "3       309187196.0  9010143870              0405510804  0284-2156124-3895   \n",
       "4       309187223.0  9010143869              0405510806  0284-9664329-3895   \n",
       "\n",
       "  Order Status       Order Type Carrier            Ship To  \\\n",
       "0      Shipped  Customer Orders     CPU  GIANT OF MARYLAND   \n",
       "1      Shipped  Customer Orders    HEYL    TARGET FDC 3895   \n",
       "2      Shipped  Customer Orders    HEYL    TARGET FDC 3895   \n",
       "3      Shipped  Customer Orders    HEYL    TARGET FDC 3895   \n",
       "4      Shipped  Customer Orders    HEYL    TARGET FDC 3895   \n",
       "\n",
       "         Order Pick Up Date  Appointment          Appointment Date  \\\n",
       "0  Jan 29, 2024 12:00:00 AM    4219595.0  Jan 29, 2024 10:00:00 AM   \n",
       "1  Jan 29, 2024 12:00:00 AM    4219650.0  Jan 29, 2024 11:00:00 AM   \n",
       "2  Jan 29, 2024 12:00:00 AM    4219652.0  Jan 29, 2024 11:00:00 AM   \n",
       "3  Jan 29, 2024 12:00:00 AM    4219656.0  Jan 29, 2024 11:00:00 AM   \n",
       "4  Jan 29, 2024 12:00:00 AM    4219658.0  Jan 29, 2024 11:00:00 AM   \n",
       "\n",
       "  Check In DateTime Appointment Type Trailer LOAD_OF_THE_DAY  POOL_SEQ#  \\\n",
       "0    01/29/24 11:11             LIVE      10             NaN          1   \n",
       "1    01/29/24 08:47             DROP    2203             NaN          1   \n",
       "2    01/26/24 22:06             DROP   22072             NaN          1   \n",
       "3    01/27/24 03:52             DROP   18050             NaN          1   \n",
       "4    01/26/24 21:54             DROP   24146             NaN          1   \n",
       "\n",
       "  Trailer Location Trailer Status   Appointment Notes        Wave #  \n",
       "0              NaN            NaN  Trinity Logistics   2.021124e+11  \n",
       "1              NaN            NaN                 NaN  2.021124e+11  \n",
       "2              NaN            NaN                 NaN  2.021124e+11  \n",
       "3              NaN            NaN                 NaN  2.021124e+11  \n",
       "4              NaN            NaN                 NaN  2.021124e+11  "
      ]
     },
     "execution_count": 457,
     "metadata": {},
     "output_type": "execute_result"
    }
   ],
   "source": [
    "order_report.head()"
   ]
  },
  {
   "cell_type": "code",
   "execution_count": 458,
   "metadata": {},
   "outputs": [
    {
     "name": "stdout",
     "output_type": "stream",
     "text": [
      "<class 'pandas.core.frame.DataFrame'>\n",
      "RangeIndex: 46035 entries, 0 to 46034\n",
      "Data columns (total 20 columns):\n",
      " #   Column                   Non-Null Count  Dtype  \n",
      "---  ------                   --------------  -----  \n",
      " 0   Ref Shipment Nbr         45918 non-null  float64\n",
      " 1   Shipment #               46035 non-null  object \n",
      " 2   SAP Delivery # (Order#)  46035 non-null  object \n",
      " 3   PO #                     46025 non-null  object \n",
      " 4   Order Status             46035 non-null  object \n",
      " 5   Order Type               46035 non-null  object \n",
      " 6   Carrier                  46029 non-null  object \n",
      " 7   Ship To                  46035 non-null  object \n",
      " 8   Order Pick Up Date       46035 non-null  object \n",
      " 9   Appointment              38005 non-null  float64\n",
      " 10  Appointment Date         38005 non-null  object \n",
      " 11  Check In DateTime        44740 non-null  object \n",
      " 12  Appointment Type         38000 non-null  object \n",
      " 13  Trailer                  45583 non-null  object \n",
      " 14  LOAD_OF_THE_DAY          1368 non-null   object \n",
      " 15  POOL_SEQ#                46035 non-null  int64  \n",
      " 16  Trailer Location         4302 non-null   object \n",
      " 17  Trailer Status           4432 non-null   object \n",
      " 18  Appointment Notes        14024 non-null  object \n",
      " 19  Wave #                   44504 non-null  float64\n",
      "dtypes: float64(3), int64(1), object(16)\n",
      "memory usage: 7.0+ MB\n"
     ]
    }
   ],
   "source": [
    "order_report.info()"
   ]
  },
  {
   "cell_type": "code",
   "execution_count": 459,
   "metadata": {},
   "outputs": [
    {
     "data": {
      "text/plain": [
       "Ref Shipment Nbr             117\n",
       "Shipment #                     0\n",
       "SAP Delivery # (Order#)        0\n",
       "PO #                          10\n",
       "Order Status                   0\n",
       "Order Type                     0\n",
       "Carrier                        6\n",
       "Ship To                        0\n",
       "Order Pick Up Date             0\n",
       "Appointment                 8030\n",
       "Appointment Date            8030\n",
       "Check In DateTime           1295\n",
       "Appointment Type            8035\n",
       "Trailer                      452\n",
       "LOAD_OF_THE_DAY            44667\n",
       "POOL_SEQ#                      0\n",
       "Trailer Location           41733\n",
       "Trailer Status             41603\n",
       "Appointment Notes          32011\n",
       "Wave #                      1531\n",
       "dtype: int64"
      ]
     },
     "execution_count": 459,
     "metadata": {},
     "output_type": "execute_result"
    }
   ],
   "source": [
    "order_report.isnull().sum()"
   ]
  },
  {
   "cell_type": "code",
   "execution_count": 460,
   "metadata": {},
   "outputs": [
    {
     "name": "stdout",
     "output_type": "stream",
     "text": [
      "5217\n"
     ]
    }
   ],
   "source": [
    "duplicated_sums = order_report['Shipment #'].duplicated().sum()\n",
    "print (duplicated_sums)"
   ]
  },
  {
   "cell_type": "code",
   "execution_count": 461,
   "metadata": {},
   "outputs": [],
   "source": [
    "order_report['Appointment Date'] = pd.to_datetime(order_report['Appointment Date'])\n",
    "order_report_sorted = order_report.sort_values(by=['Shipment #', 'Appointment Date'], ascending=[True, False])\n",
    "order_report = order_report_sorted.drop_duplicates(subset='Shipment #', keep='first')"
   ]
  },
  {
   "cell_type": "code",
   "execution_count": 462,
   "metadata": {},
   "outputs": [
    {
     "name": "stdout",
     "output_type": "stream",
     "text": [
      "0\n"
     ]
    }
   ],
   "source": [
    "duplicated_sums = order_report['Shipment #'].duplicated().sum()\n",
    "print (duplicated_sums)"
   ]
  },
  {
   "cell_type": "code",
   "execution_count": 463,
   "metadata": {},
   "outputs": [
    {
     "name": "stdout",
     "output_type": "stream",
     "text": [
      "Index(['Ref Shipment Nbr', 'Shipment #', 'SAP Delivery # (Order#)', 'PO #',\n",
      "       'Order Status', 'Order Type', 'Carrier', 'Ship To',\n",
      "       'Order Pick Up Date', 'Appointment', 'Appointment Date',\n",
      "       'Check In DateTime', 'Appointment Type', 'Trailer', 'LOAD_OF_THE_DAY',\n",
      "       'POOL_SEQ#', 'Trailer Location', 'Trailer Status', 'Appointment Notes',\n",
      "       'Wave #'],\n",
      "      dtype='object')\n"
     ]
    }
   ],
   "source": [
    "print(order_report.columns)"
   ]
  },
  {
   "cell_type": "code",
   "execution_count": 464,
   "metadata": {},
   "outputs": [
    {
     "data": {
      "text/html": [
       "<div>\n",
       "<style scoped>\n",
       "    .dataframe tbody tr th:only-of-type {\n",
       "        vertical-align: middle;\n",
       "    }\n",
       "\n",
       "    .dataframe tbody tr th {\n",
       "        vertical-align: top;\n",
       "    }\n",
       "\n",
       "    .dataframe thead th {\n",
       "        text-align: right;\n",
       "    }\n",
       "</style>\n",
       "<table border=\"1\" class=\"dataframe\">\n",
       "  <thead>\n",
       "    <tr style=\"text-align: right;\">\n",
       "      <th></th>\n",
       "      <th>Shipment #</th>\n",
       "      <th>SAP Delivery # (Order#)</th>\n",
       "      <th>Carrier</th>\n",
       "      <th>Appointment Date</th>\n",
       "      <th>Appointment Type</th>\n",
       "    </tr>\n",
       "  </thead>\n",
       "  <tbody>\n",
       "    <tr>\n",
       "      <th>29</th>\n",
       "      <td>9010143843</td>\n",
       "      <td>0405510328</td>\n",
       "      <td>CPU</td>\n",
       "      <td>2024-01-29 18:00:00</td>\n",
       "      <td>DROP</td>\n",
       "    </tr>\n",
       "    <tr>\n",
       "      <th>160</th>\n",
       "      <td>9010143844</td>\n",
       "      <td>0405510495</td>\n",
       "      <td>CPU</td>\n",
       "      <td>2024-01-31 16:00:00</td>\n",
       "      <td>LIVE</td>\n",
       "    </tr>\n",
       "    <tr>\n",
       "      <th>0</th>\n",
       "      <td>9010143845</td>\n",
       "      <td>0405510588</td>\n",
       "      <td>CPU</td>\n",
       "      <td>2024-01-29 10:00:00</td>\n",
       "      <td>LIVE</td>\n",
       "    </tr>\n",
       "    <tr>\n",
       "      <th>1111</th>\n",
       "      <td>9010143846</td>\n",
       "      <td>0405510727</td>\n",
       "      <td>CPU</td>\n",
       "      <td>2024-02-09 19:00:00</td>\n",
       "      <td>DROP</td>\n",
       "    </tr>\n",
       "    <tr>\n",
       "      <th>201</th>\n",
       "      <td>9010143847</td>\n",
       "      <td>0405510737</td>\n",
       "      <td>CPU</td>\n",
       "      <td>2024-02-01 15:00:00</td>\n",
       "      <td>DROP</td>\n",
       "    </tr>\n",
       "  </tbody>\n",
       "</table>\n",
       "</div>"
      ],
      "text/plain": [
       "      Shipment # SAP Delivery # (Order#) Carrier    Appointment Date  \\\n",
       "29    9010143843              0405510328     CPU 2024-01-29 18:00:00   \n",
       "160   9010143844              0405510495     CPU 2024-01-31 16:00:00   \n",
       "0     9010143845              0405510588     CPU 2024-01-29 10:00:00   \n",
       "1111  9010143846              0405510727     CPU 2024-02-09 19:00:00   \n",
       "201   9010143847              0405510737     CPU 2024-02-01 15:00:00   \n",
       "\n",
       "     Appointment Type  \n",
       "29               DROP  \n",
       "160              LIVE  \n",
       "0                LIVE  \n",
       "1111             DROP  \n",
       "201              DROP  "
      ]
     },
     "execution_count": 464,
     "metadata": {},
     "output_type": "execute_result"
    }
   ],
   "source": [
    "columns_to_keep = ['Shipment #', 'SAP Delivery # (Order#)', 'Appointment Date', 'Carrier', 'Appointment Type']\n",
    "order_report = order_report.drop(columns=order_report.columns.difference(columns_to_keep))\n",
    "\n",
    "order_report.head()"
   ]
  },
  {
   "cell_type": "code",
   "execution_count": 465,
   "metadata": {},
   "outputs": [
    {
     "name": "stdout",
     "output_type": "stream",
     "text": [
      "['DROP' 'LIVE' nan]\n"
     ]
    }
   ],
   "source": [
    "unique_values = order_report['Appointment Type'].unique()\n",
    "print(unique_values)"
   ]
  },
  {
   "cell_type": "code",
   "execution_count": 466,
   "metadata": {},
   "outputs": [
    {
     "data": {
      "text/plain": [
       "Shipment #                    0\n",
       "SAP Delivery # (Order#)       0\n",
       "Carrier                       4\n",
       "Appointment Date           7994\n",
       "Appointment Type           7999\n",
       "dtype: int64"
      ]
     },
     "execution_count": 466,
     "metadata": {},
     "output_type": "execute_result"
    }
   ],
   "source": [
    "order_report.isnull().sum()"
   ]
  },
  {
   "cell_type": "code",
   "execution_count": 467,
   "metadata": {},
   "outputs": [],
   "source": [
    "order_report = order_report.dropna()"
   ]
  },
  {
   "cell_type": "code",
   "execution_count": 468,
   "metadata": {},
   "outputs": [
    {
     "name": "stdout",
     "output_type": "stream",
     "text": [
      "<class 'pandas.core.frame.DataFrame'>\n",
      "Index: 32816 entries, 29 to 37965\n",
      "Data columns (total 5 columns):\n",
      " #   Column                   Non-Null Count  Dtype         \n",
      "---  ------                   --------------  -----         \n",
      " 0   Shipment #               32816 non-null  object        \n",
      " 1   SAP Delivery # (Order#)  32816 non-null  object        \n",
      " 2   Carrier                  32816 non-null  object        \n",
      " 3   Appointment Date         32816 non-null  datetime64[ns]\n",
      " 4   Appointment Type         32816 non-null  object        \n",
      "dtypes: datetime64[ns](1), object(4)\n",
      "memory usage: 1.5+ MB\n"
     ]
    }
   ],
   "source": [
    "order_report.info()"
   ]
  },
  {
   "cell_type": "code",
   "execution_count": 469,
   "metadata": {},
   "outputs": [],
   "source": [
    "order_report.rename(columns={'Shipment #': 'Shipment Num', 'SAP Delivery # (Order#)': 'Order Num', 'Appointment Date': 'Appointment DateTime', 'Appointment Type': 'Visit Type'}, inplace=True)"
   ]
  },
  {
   "cell_type": "code",
   "execution_count": 470,
   "metadata": {},
   "outputs": [
    {
     "data": {
      "text/html": [
       "<div>\n",
       "<style scoped>\n",
       "    .dataframe tbody tr th:only-of-type {\n",
       "        vertical-align: middle;\n",
       "    }\n",
       "\n",
       "    .dataframe tbody tr th {\n",
       "        vertical-align: top;\n",
       "    }\n",
       "\n",
       "    .dataframe thead th {\n",
       "        text-align: right;\n",
       "    }\n",
       "</style>\n",
       "<table border=\"1\" class=\"dataframe\">\n",
       "  <thead>\n",
       "    <tr style=\"text-align: right;\">\n",
       "      <th></th>\n",
       "      <th>Shipment Num</th>\n",
       "      <th>Order Num</th>\n",
       "      <th>Carrier</th>\n",
       "      <th>Appointment DateTime</th>\n",
       "      <th>Visit Type</th>\n",
       "    </tr>\n",
       "  </thead>\n",
       "  <tbody>\n",
       "    <tr>\n",
       "      <th>29</th>\n",
       "      <td>9010143843</td>\n",
       "      <td>0405510328</td>\n",
       "      <td>CPU</td>\n",
       "      <td>2024-01-29 18:00:00</td>\n",
       "      <td>DROP</td>\n",
       "    </tr>\n",
       "    <tr>\n",
       "      <th>160</th>\n",
       "      <td>9010143844</td>\n",
       "      <td>0405510495</td>\n",
       "      <td>CPU</td>\n",
       "      <td>2024-01-31 16:00:00</td>\n",
       "      <td>LIVE</td>\n",
       "    </tr>\n",
       "    <tr>\n",
       "      <th>0</th>\n",
       "      <td>9010143845</td>\n",
       "      <td>0405510588</td>\n",
       "      <td>CPU</td>\n",
       "      <td>2024-01-29 10:00:00</td>\n",
       "      <td>LIVE</td>\n",
       "    </tr>\n",
       "    <tr>\n",
       "      <th>1111</th>\n",
       "      <td>9010143846</td>\n",
       "      <td>0405510727</td>\n",
       "      <td>CPU</td>\n",
       "      <td>2024-02-09 19:00:00</td>\n",
       "      <td>DROP</td>\n",
       "    </tr>\n",
       "    <tr>\n",
       "      <th>201</th>\n",
       "      <td>9010143847</td>\n",
       "      <td>0405510737</td>\n",
       "      <td>CPU</td>\n",
       "      <td>2024-02-01 15:00:00</td>\n",
       "      <td>DROP</td>\n",
       "    </tr>\n",
       "  </tbody>\n",
       "</table>\n",
       "</div>"
      ],
      "text/plain": [
       "     Shipment Num   Order Num Carrier Appointment DateTime Visit Type\n",
       "29     9010143843  0405510328     CPU  2024-01-29 18:00:00       DROP\n",
       "160    9010143844  0405510495     CPU  2024-01-31 16:00:00       LIVE\n",
       "0      9010143845  0405510588     CPU  2024-01-29 10:00:00       LIVE\n",
       "1111   9010143846  0405510727     CPU  2024-02-09 19:00:00       DROP\n",
       "201    9010143847  0405510737     CPU  2024-02-01 15:00:00       DROP"
      ]
     },
     "execution_count": 470,
     "metadata": {},
     "output_type": "execute_result"
    }
   ],
   "source": [
    "order_report.head()"
   ]
  },
  {
   "cell_type": "markdown",
   "metadata": {},
   "source": [
    "## Trailer Activity Report"
   ]
  },
  {
   "cell_type": "code",
   "execution_count": 471,
   "metadata": {},
   "outputs": [
    {
     "data": {
      "text/html": [
       "<div>\n",
       "<style scoped>\n",
       "    .dataframe tbody tr th:only-of-type {\n",
       "        vertical-align: middle;\n",
       "    }\n",
       "\n",
       "    .dataframe tbody tr th {\n",
       "        vertical-align: top;\n",
       "    }\n",
       "\n",
       "    .dataframe thead th {\n",
       "        text-align: right;\n",
       "    }\n",
       "</style>\n",
       "<table border=\"1\" class=\"dataframe\">\n",
       "  <thead>\n",
       "    <tr style=\"text-align: right;\">\n",
       "      <th></th>\n",
       "      <th>CHECKIN DATE TIME</th>\n",
       "      <th>CHECKOUT DATE TIME</th>\n",
       "      <th>Trailer time on yard in hours</th>\n",
       "      <th>TRAILER</th>\n",
       "      <th>Trailer Type (Std or Reef)</th>\n",
       "      <th>CARRIER</th>\n",
       "      <th>APPOINTMENT</th>\n",
       "      <th>VISIT TYPE</th>\n",
       "      <th>TRAILER STATUS</th>\n",
       "      <th>TASK TYPE</th>\n",
       "      <th>ACTIVITY TYPE</th>\n",
       "      <th>Date/Time</th>\n",
       "      <th>YARD SLOT</th>\n",
       "      <th>DOCK DOOR</th>\n",
       "      <th>DRIVER</th>\n",
       "      <th>ACTIVITY SOURCE</th>\n",
       "      <th>SHIPMENT_ID</th>\n",
       "      <th>ASN_ID</th>\n",
       "      <th>PO #</th>\n",
       "    </tr>\n",
       "  </thead>\n",
       "  <tbody>\n",
       "    <tr>\n",
       "      <th>0</th>\n",
       "      <td>Feb 12, 2024 4:01:00 PM</td>\n",
       "      <td>Feb 12, 2024 11:20:37 PM</td>\n",
       "      <td>7</td>\n",
       "      <td>220</td>\n",
       "      <td>Reefer</td>\n",
       "      <td>CPU</td>\n",
       "      <td>NaN</td>\n",
       "      <td>Live Unload</td>\n",
       "      <td>IB Loaded</td>\n",
       "      <td>NaN</td>\n",
       "      <td>CHECKED IN</td>\n",
       "      <td>02/12/24 16:01</td>\n",
       "      <td>NaN</td>\n",
       "      <td>DR230</td>\n",
       "      <td>NaN</td>\n",
       "      <td>172691</td>\n",
       "      <td>NaN</td>\n",
       "      <td>201364813.0</td>\n",
       "      <td>4702106224</td>\n",
       "    </tr>\n",
       "    <tr>\n",
       "      <th>1</th>\n",
       "      <td>Feb 1, 2024 1:07:00 AM</td>\n",
       "      <td>Feb 3, 2024 2:27:06 PM</td>\n",
       "      <td>61</td>\n",
       "      <td>19035</td>\n",
       "      <td>Shuttle</td>\n",
       "      <td>HEY2</td>\n",
       "      <td>NaN</td>\n",
       "      <td>Drop Unload</td>\n",
       "      <td>IB Loaded</td>\n",
       "      <td>Move</td>\n",
       "      <td>TRAILER MOVED</td>\n",
       "      <td>02/03/24 00:37</td>\n",
       "      <td>NaN</td>\n",
       "      <td>DR196</td>\n",
       "      <td>NaN</td>\n",
       "      <td>146501</td>\n",
       "      <td>NaN</td>\n",
       "      <td>201365001.0</td>\n",
       "      <td>4702106353</td>\n",
       "    </tr>\n",
       "    <tr>\n",
       "      <th>2</th>\n",
       "      <td>Feb 1, 2024 9:05:00 PM</td>\n",
       "      <td>Feb 10, 2024 4:08:05 AM</td>\n",
       "      <td>199</td>\n",
       "      <td>17091</td>\n",
       "      <td>Shuttle</td>\n",
       "      <td>HEY2</td>\n",
       "      <td>42111970.0</td>\n",
       "      <td>Drop Unload</td>\n",
       "      <td>IB Loaded</td>\n",
       "      <td>NaN</td>\n",
       "      <td>CHECKED IN</td>\n",
       "      <td>02/01/24 21:05</td>\n",
       "      <td>[R]B-124</td>\n",
       "      <td>124</td>\n",
       "      <td>NaN</td>\n",
       "      <td>169398</td>\n",
       "      <td>NaN</td>\n",
       "      <td>201365186.0</td>\n",
       "      <td>4702106525</td>\n",
       "    </tr>\n",
       "    <tr>\n",
       "      <th>3</th>\n",
       "      <td>Feb 3, 2024 8:32:00 AM</td>\n",
       "      <td>Feb 13, 2024 5:04:40 AM</td>\n",
       "      <td>237</td>\n",
       "      <td>17007</td>\n",
       "      <td>Reefer</td>\n",
       "      <td>HEY2</td>\n",
       "      <td>NaN</td>\n",
       "      <td>Live Unload</td>\n",
       "      <td>Empty</td>\n",
       "      <td>NaN</td>\n",
       "      <td>CLOSED</td>\n",
       "      <td>02/13/24 05:02</td>\n",
       "      <td>NaN</td>\n",
       "      <td>DR224</td>\n",
       "      <td>NaN</td>\n",
       "      <td>170158</td>\n",
       "      <td>NaN</td>\n",
       "      <td>201365264.0</td>\n",
       "      <td>4702106599</td>\n",
       "    </tr>\n",
       "    <tr>\n",
       "      <th>4</th>\n",
       "      <td>Feb 13, 2024 8:05:00 AM</td>\n",
       "      <td>Feb 13, 2024 9:49:33 AM</td>\n",
       "      <td>2</td>\n",
       "      <td>2022</td>\n",
       "      <td>Reefer</td>\n",
       "      <td>CPU</td>\n",
       "      <td>42113722.0</td>\n",
       "      <td>Drop Unload</td>\n",
       "      <td>IB Loaded</td>\n",
       "      <td>NaN</td>\n",
       "      <td>CHECKED IN</td>\n",
       "      <td>02/13/24 08:06</td>\n",
       "      <td>NaN</td>\n",
       "      <td>DR214</td>\n",
       "      <td>NaN</td>\n",
       "      <td>172691</td>\n",
       "      <td>NaN</td>\n",
       "      <td>60569659.0</td>\n",
       "      <td>4509844863</td>\n",
       "    </tr>\n",
       "  </tbody>\n",
       "</table>\n",
       "</div>"
      ],
      "text/plain": [
       "         CHECKIN DATE TIME        CHECKOUT DATE TIME  \\\n",
       "0  Feb 12, 2024 4:01:00 PM  Feb 12, 2024 11:20:37 PM   \n",
       "1   Feb 1, 2024 1:07:00 AM    Feb 3, 2024 2:27:06 PM   \n",
       "2   Feb 1, 2024 9:05:00 PM   Feb 10, 2024 4:08:05 AM   \n",
       "3   Feb 3, 2024 8:32:00 AM   Feb 13, 2024 5:04:40 AM   \n",
       "4  Feb 13, 2024 8:05:00 AM   Feb 13, 2024 9:49:33 AM   \n",
       "\n",
       "  Trailer time on yard in hours TRAILER Trailer Type (Std or Reef) CARRIER  \\\n",
       "0                             7     220                     Reefer     CPU   \n",
       "1                            61   19035                    Shuttle    HEY2   \n",
       "2                           199   17091                    Shuttle    HEY2   \n",
       "3                           237   17007                     Reefer    HEY2   \n",
       "4                             2    2022                     Reefer     CPU   \n",
       "\n",
       "   APPOINTMENT   VISIT TYPE TRAILER STATUS  TASK TYPE ACTIVITY TYPE   \\\n",
       "0          NaN  Live Unload      IB Loaded        NaN     CHECKED IN   \n",
       "1          NaN  Drop Unload      IB Loaded       Move  TRAILER MOVED   \n",
       "2   42111970.0  Drop Unload      IB Loaded        NaN     CHECKED IN   \n",
       "3          NaN  Live Unload          Empty        NaN         CLOSED   \n",
       "4   42113722.0  Drop Unload      IB Loaded        NaN     CHECKED IN   \n",
       "\n",
       "        Date/Time YARD SLOT DOCK DOOR  DRIVER ACTIVITY SOURCE SHIPMENT_ID  \\\n",
       "0  02/12/24 16:01       NaN     DR230     NaN          172691         NaN   \n",
       "1  02/03/24 00:37       NaN     DR196     NaN          146501         NaN   \n",
       "2  02/01/24 21:05  [R]B-124       124     NaN          169398         NaN   \n",
       "3  02/13/24 05:02       NaN     DR224     NaN          170158         NaN   \n",
       "4  02/13/24 08:06       NaN     DR214     NaN          172691         NaN   \n",
       "\n",
       "        ASN_ID        PO #  \n",
       "0  201364813.0  4702106224  \n",
       "1  201365001.0  4702106353  \n",
       "2  201365186.0  4702106525  \n",
       "3  201365264.0  4702106599  \n",
       "4   60569659.0  4509844863  "
      ]
     },
     "execution_count": 471,
     "metadata": {},
     "output_type": "execute_result"
    }
   ],
   "source": [
    "trailer_report.head()"
   ]
  },
  {
   "cell_type": "code",
   "execution_count": 472,
   "metadata": {},
   "outputs": [
    {
     "name": "stdout",
     "output_type": "stream",
     "text": [
      "Index(['CHECKIN DATE TIME', 'CHECKOUT DATE TIME',\n",
      "       'Trailer time on yard in hours', 'TRAILER',\n",
      "       'Trailer Type (Std or Reef)', 'CARRIER', 'APPOINTMENT', 'VISIT TYPE',\n",
      "       'TRAILER STATUS', ' TASK TYPE', 'ACTIVITY TYPE ', 'Date/Time',\n",
      "       'YARD SLOT', 'DOCK DOOR', 'DRIVER', 'ACTIVITY SOURCE', 'SHIPMENT_ID',\n",
      "       'ASN_ID', 'PO #'],\n",
      "      dtype='object')\n"
     ]
    }
   ],
   "source": [
    "print(trailer_report.columns)"
   ]
  },
  {
   "cell_type": "code",
   "execution_count": 473,
   "metadata": {},
   "outputs": [],
   "source": [
    "trailer_report = trailer_report[trailer_report['ACTIVITY TYPE '] == 'CLOSED']"
   ]
  },
  {
   "cell_type": "code",
   "execution_count": 474,
   "metadata": {},
   "outputs": [],
   "source": [
    "columns_to_keep = ['CHECKIN DATE TIME', 'CHECKOUT DATE TIME', 'Date/Time', 'SHIPMENT_ID', 'Date/Time', ]\n",
    "trailer_report = trailer_report.drop(columns=trailer_report.columns.difference(columns_to_keep))"
   ]
  },
  {
   "cell_type": "code",
   "execution_count": 475,
   "metadata": {},
   "outputs": [
    {
     "data": {
      "text/html": [
       "<div>\n",
       "<style scoped>\n",
       "    .dataframe tbody tr th:only-of-type {\n",
       "        vertical-align: middle;\n",
       "    }\n",
       "\n",
       "    .dataframe tbody tr th {\n",
       "        vertical-align: top;\n",
       "    }\n",
       "\n",
       "    .dataframe thead th {\n",
       "        text-align: right;\n",
       "    }\n",
       "</style>\n",
       "<table border=\"1\" class=\"dataframe\">\n",
       "  <thead>\n",
       "    <tr style=\"text-align: right;\">\n",
       "      <th></th>\n",
       "      <th>CHECKIN DATE TIME</th>\n",
       "      <th>CHECKOUT DATE TIME</th>\n",
       "      <th>Date/Time</th>\n",
       "      <th>SHIPMENT_ID</th>\n",
       "    </tr>\n",
       "  </thead>\n",
       "  <tbody>\n",
       "    <tr>\n",
       "      <th>3</th>\n",
       "      <td>Feb 3, 2024 8:32:00 AM</td>\n",
       "      <td>Feb 13, 2024 5:04:40 AM</td>\n",
       "      <td>02/13/24 05:02</td>\n",
       "      <td>NaN</td>\n",
       "    </tr>\n",
       "    <tr>\n",
       "      <th>5</th>\n",
       "      <td>Feb 8, 2024 2:12:00 PM</td>\n",
       "      <td>Feb 8, 2024 7:49:40 PM</td>\n",
       "      <td>02/08/24 17:56</td>\n",
       "      <td>NaN</td>\n",
       "    </tr>\n",
       "    <tr>\n",
       "      <th>6</th>\n",
       "      <td>Feb 16, 2024 4:10:00 PM</td>\n",
       "      <td>Feb 21, 2024 12:30:34 PM</td>\n",
       "      <td>02/20/24 15:41</td>\n",
       "      <td>NaN</td>\n",
       "    </tr>\n",
       "    <tr>\n",
       "      <th>8</th>\n",
       "      <td>Feb 17, 2024 10:34:00 AM</td>\n",
       "      <td>Feb 17, 2024 2:30:14 PM</td>\n",
       "      <td>02/17/24 14:07</td>\n",
       "      <td>NaN</td>\n",
       "    </tr>\n",
       "    <tr>\n",
       "      <th>9</th>\n",
       "      <td>Feb 5, 2024 5:25:00 AM</td>\n",
       "      <td>Feb 5, 2024 11:53:10 AM</td>\n",
       "      <td>02/05/24 08:05</td>\n",
       "      <td>NaN</td>\n",
       "    </tr>\n",
       "  </tbody>\n",
       "</table>\n",
       "</div>"
      ],
      "text/plain": [
       "          CHECKIN DATE TIME        CHECKOUT DATE TIME       Date/Time  \\\n",
       "3    Feb 3, 2024 8:32:00 AM   Feb 13, 2024 5:04:40 AM  02/13/24 05:02   \n",
       "5    Feb 8, 2024 2:12:00 PM    Feb 8, 2024 7:49:40 PM  02/08/24 17:56   \n",
       "6   Feb 16, 2024 4:10:00 PM  Feb 21, 2024 12:30:34 PM  02/20/24 15:41   \n",
       "8  Feb 17, 2024 10:34:00 AM   Feb 17, 2024 2:30:14 PM  02/17/24 14:07   \n",
       "9    Feb 5, 2024 5:25:00 AM   Feb 5, 2024 11:53:10 AM  02/05/24 08:05   \n",
       "\n",
       "  SHIPMENT_ID  \n",
       "3         NaN  \n",
       "5         NaN  \n",
       "6         NaN  \n",
       "8         NaN  \n",
       "9         NaN  "
      ]
     },
     "execution_count": 475,
     "metadata": {},
     "output_type": "execute_result"
    }
   ],
   "source": [
    "trailer_report.head()"
   ]
  },
  {
   "cell_type": "code",
   "execution_count": 476,
   "metadata": {},
   "outputs": [],
   "source": [
    "trailer_report = trailer_report.dropna()"
   ]
  },
  {
   "cell_type": "code",
   "execution_count": 477,
   "metadata": {},
   "outputs": [
    {
     "data": {
      "text/plain": [
       "CHECKIN DATE TIME     0\n",
       "CHECKOUT DATE TIME    0\n",
       "Date/Time             0\n",
       "SHIPMENT_ID           0\n",
       "dtype: int64"
      ]
     },
     "execution_count": 477,
     "metadata": {},
     "output_type": "execute_result"
    }
   ],
   "source": [
    "trailer_report.isnull().sum()"
   ]
  },
  {
   "cell_type": "code",
   "execution_count": 478,
   "metadata": {},
   "outputs": [
    {
     "name": "stdout",
     "output_type": "stream",
     "text": [
      "47183\n"
     ]
    }
   ],
   "source": [
    "row_count = len(trailer_report)\n",
    "print(row_count)"
   ]
  },
  {
   "cell_type": "code",
   "execution_count": 479,
   "metadata": {},
   "outputs": [
    {
     "name": "stdout",
     "output_type": "stream",
     "text": [
      "9026\n"
     ]
    }
   ],
   "source": [
    "duplicated_sums = trailer_report['SHIPMENT_ID'].duplicated().sum()\n",
    "print(duplicated_sums)"
   ]
  },
  {
   "cell_type": "code",
   "execution_count": 481,
   "metadata": {},
   "outputs": [
    {
     "name": "stdout",
     "output_type": "stream",
     "text": [
      "38157\n"
     ]
    }
   ],
   "source": [
    "trailer_report['Date/Time'] = pd.to_datetime(trailer_report['Date/Time'])\n",
    "trailer_report = trailer_report.sort_values(by=['SHIPMENT_ID', 'Date/Time'], ascending=[True, False])\n",
    "\n",
    "trailer_report = trailer_report.drop_duplicates(subset='SHIPMENT_ID', keep='first')\n",
    "\n",
    "row_count = len(trailer_report)\n",
    "print(row_count)"
   ]
  },
  {
   "cell_type": "code",
   "execution_count": 482,
   "metadata": {},
   "outputs": [],
   "source": [
    "trailer_report.rename(columns={'CHECKIN DATE TIME': 'Checkin DateTime', 'CHECKOUT DATE TIME': 'Checkout DateTime', 'SHIPMENT_ID': 'Shipment Num', 'Date/Time': 'Loaded DateTime'}, inplace=True)"
   ]
  },
  {
   "cell_type": "code",
   "execution_count": 485,
   "metadata": {},
   "outputs": [
    {
     "name": "stderr",
     "output_type": "stream",
     "text": [
      "/var/folders/9x/s44ysdgx3ydcqwy4xgb366d40000gn/T/ipykernel_98957/626782885.py:1: UserWarning: Could not infer format, so each element will be parsed individually, falling back to `dateutil`. To ensure parsing is consistent and as-expected, please specify a format.\n",
      "  trailer_report['Checkin DateTime'] = pd.to_datetime(trailer_report['Checkin DateTime'])\n",
      "/var/folders/9x/s44ysdgx3ydcqwy4xgb366d40000gn/T/ipykernel_98957/626782885.py:2: UserWarning: Could not infer format, so each element will be parsed individually, falling back to `dateutil`. To ensure parsing is consistent and as-expected, please specify a format.\n",
      "  trailer_report['Checkout DateTime'] = pd.to_datetime(trailer_report['Checkout DateTime'])\n"
     ]
    }
   ],
   "source": [
    "trailer_report['Checkin DateTime'] = pd.to_datetime(trailer_report['Checkin DateTime'])\n",
    "trailer_report['Checkout DateTime'] = pd.to_datetime(trailer_report['Checkout DateTime'])"
   ]
  },
  {
   "cell_type": "code",
   "execution_count": 486,
   "metadata": {},
   "outputs": [
    {
     "data": {
      "text/html": [
       "<div>\n",
       "<style scoped>\n",
       "    .dataframe tbody tr th:only-of-type {\n",
       "        vertical-align: middle;\n",
       "    }\n",
       "\n",
       "    .dataframe tbody tr th {\n",
       "        vertical-align: top;\n",
       "    }\n",
       "\n",
       "    .dataframe thead th {\n",
       "        text-align: right;\n",
       "    }\n",
       "</style>\n",
       "<table border=\"1\" class=\"dataframe\">\n",
       "  <thead>\n",
       "    <tr style=\"text-align: right;\">\n",
       "      <th></th>\n",
       "      <th>Checkin DateTime</th>\n",
       "      <th>Checkout DateTime</th>\n",
       "      <th>Loaded DateTime</th>\n",
       "      <th>Shipment Num</th>\n",
       "    </tr>\n",
       "  </thead>\n",
       "  <tbody>\n",
       "    <tr>\n",
       "      <th>256144</th>\n",
       "      <td>2024-01-29 23:11:00</td>\n",
       "      <td>2024-01-30 18:29:02</td>\n",
       "      <td>2024-01-30 18:28:00</td>\n",
       "      <td>9010143843</td>\n",
       "    </tr>\n",
       "    <tr>\n",
       "      <th>162604</th>\n",
       "      <td>2024-01-31 22:49:00</td>\n",
       "      <td>2024-02-01 14:09:30</td>\n",
       "      <td>2024-02-01 14:09:00</td>\n",
       "      <td>9010143844</td>\n",
       "    </tr>\n",
       "    <tr>\n",
       "      <th>125823</th>\n",
       "      <td>2024-01-29 11:11:00</td>\n",
       "      <td>2024-01-29 16:31:18</td>\n",
       "      <td>2024-01-29 16:30:00</td>\n",
       "      <td>9010143845</td>\n",
       "    </tr>\n",
       "    <tr>\n",
       "      <th>53956</th>\n",
       "      <td>2024-02-10 18:44:00</td>\n",
       "      <td>2024-02-11 00:01:24</td>\n",
       "      <td>2024-02-11 00:01:00</td>\n",
       "      <td>9010143846</td>\n",
       "    </tr>\n",
       "    <tr>\n",
       "      <th>238488</th>\n",
       "      <td>2024-02-02 02:06:00</td>\n",
       "      <td>2024-02-03 12:32:46</td>\n",
       "      <td>2024-02-02 07:03:00</td>\n",
       "      <td>9010143847</td>\n",
       "    </tr>\n",
       "  </tbody>\n",
       "</table>\n",
       "</div>"
      ],
      "text/plain": [
       "          Checkin DateTime   Checkout DateTime     Loaded DateTime  \\\n",
       "256144 2024-01-29 23:11:00 2024-01-30 18:29:02 2024-01-30 18:28:00   \n",
       "162604 2024-01-31 22:49:00 2024-02-01 14:09:30 2024-02-01 14:09:00   \n",
       "125823 2024-01-29 11:11:00 2024-01-29 16:31:18 2024-01-29 16:30:00   \n",
       "53956  2024-02-10 18:44:00 2024-02-11 00:01:24 2024-02-11 00:01:00   \n",
       "238488 2024-02-02 02:06:00 2024-02-03 12:32:46 2024-02-02 07:03:00   \n",
       "\n",
       "       Shipment Num  \n",
       "256144   9010143843  \n",
       "162604   9010143844  \n",
       "125823   9010143845  \n",
       "53956    9010143846  \n",
       "238488   9010143847  "
      ]
     },
     "execution_count": 486,
     "metadata": {},
     "output_type": "execute_result"
    }
   ],
   "source": [
    "trailer_report.head()"
   ]
  }
 ],
 "metadata": {
  "kernelspec": {
   "display_name": "myenv",
   "language": "python",
   "name": "python3"
  },
  "language_info": {
   "codemirror_mode": {
    "name": "ipython",
    "version": 3
   },
   "file_extension": ".py",
   "mimetype": "text/x-python",
   "name": "python",
   "nbconvert_exporter": "python",
   "pygments_lexer": "ipython3",
   "version": "3.12.7"
  }
 },
 "nbformat": 4,
 "nbformat_minor": 2
}
